{
 "cells": [
  {
   "cell_type": "code",
   "execution_count": 1,
   "metadata": {
    "_cell_guid": "b1076dfc-b9ad-4769-8c92-a6c4dae69d19",
    "_uuid": "8f2839f25d086af736a60e9eeb907d3b93b6e0e5"
   },
   "outputs": [],
   "source": [
    "from kaggle.competitions import nflrush\n",
    "env = nflrush.make_env()\n",
    "\n",
    "import pandas as pd"
   ]
  },
  {
   "cell_type": "code",
   "execution_count": 2,
   "metadata": {
    "_cell_guid": "79c7e3d0-c299-4dcb-8224-4455121ee9b0",
    "_uuid": "d629ff2d2480ee46fbb7e2d37f6b5fab8052498a"
   },
   "outputs": [
    {
     "name": "stdout",
     "output_type": "stream",
     "text": [
      "Number of Training Examples = 509762\n",
      "Number of Training Plays = 23171\n",
      "Number of Training Games = 512\n",
      "Training Set Memory Usage = 190.57 MB\n"
     ]
    }
   ],
   "source": [
    "df_train = pd.read_csv('/kaggle/input/nfl-big-data-bowl-2020/train.csv', low_memory=False)\n",
    "df_test = pd.DataFrame(columns=df_train.drop(columns=['Yards']).columns)\n",
    "\n",
    "print('Number of Training Examples = {}'.format(df_train.shape[0]))\n",
    "print('Number of Training Plays = {}'.format(df_train['PlayId'].nunique()))\n",
    "print('Number of Training Games = {}'.format(df_train['GameId'].nunique()))\n",
    "print('Training Set Memory Usage = {:.2f} MB'.format(df_train.memory_usage().sum() / 1024**2))"
   ]
  },
  {
   "cell_type": "markdown",
   "metadata": {},
   "source": [
    "> Because this is a time-series code competition that will be evaluated on future data, you will receive data and make predictions with a time-series API. This API provides plays in the time order in which they occurred in a game. Refer to the starter notebook here for an example of how to complete a submission.\n",
    "> \n",
    "> To deter cheating by looking ahead in time, the API has been compiled and the test data encrypted on disk. While it may be possible, you should not decompile or attempt to read the test set outside of the API, as the encryption keys will change during the live scoring portion of the competition. During stage one, we ask that you respect the spirit of the competition and do not submit predictions that incorporate future information or the ground truth.\n",
    "\n",
    "**It is clearly showing that looking ahead in time and making predictions based on future is forbidden. Test set should be used for data cleaning and EDA.**\n",
    "\n",
    "**Fork this kernel and read the test set with `pd.read_csv(path + 'df_test.csv')`.**"
   ]
  },
  {
   "cell_type": "code",
   "execution_count": 3,
   "metadata": {},
   "outputs": [
    {
     "name": "stdout",
     "output_type": "stream",
     "text": [
      "Number of Test Examples = 75636\n",
      "Number of Test Plays = 3438\n",
      "Number of Test Games = 78\n",
      "Test Set Memory Usage = 28.28 MB\n",
      "CPU times: user 13min 36s, sys: 6.75 s, total: 13min 43s\n",
      "Wall time: 13min 38s\n"
     ]
    }
   ],
   "source": [
    "%%time\n",
    "\n",
    "for (test, sample_pred) in env.iter_test():\n",
    "    df_test = pd.concat([df_test, test])\n",
    "    env.predict(sample_pred)\n",
    "    \n",
    "print('Number of Test Examples = {}'.format(df_test.shape[0]))\n",
    "print('Number of Test Plays = {}'.format(df_test['PlayId'].nunique()))\n",
    "print('Number of Test Games = {}'.format(df_test['GameId'].nunique()))\n",
    "print('Test Set Memory Usage = {:.2f} MB'.format(df_test.memory_usage().sum() / 1024**2))"
   ]
  },
  {
   "cell_type": "code",
   "execution_count": 4,
   "metadata": {},
   "outputs": [
    {
     "data": {
      "text/html": [
       "<div>\n",
       "<style scoped>\n",
       "    .dataframe tbody tr th:only-of-type {\n",
       "        vertical-align: middle;\n",
       "    }\n",
       "\n",
       "    .dataframe tbody tr th {\n",
       "        vertical-align: top;\n",
       "    }\n",
       "\n",
       "    .dataframe thead th {\n",
       "        text-align: right;\n",
       "    }\n",
       "</style>\n",
       "<table border=\"1\" class=\"dataframe\">\n",
       "  <thead>\n",
       "    <tr style=\"text-align: right;\">\n",
       "      <th></th>\n",
       "      <th>GameId</th>\n",
       "      <th>PlayId</th>\n",
       "      <th>Team</th>\n",
       "      <th>X</th>\n",
       "      <th>Y</th>\n",
       "      <th>S</th>\n",
       "      <th>A</th>\n",
       "      <th>Dis</th>\n",
       "      <th>Orientation</th>\n",
       "      <th>Dir</th>\n",
       "      <th>...</th>\n",
       "      <th>Week</th>\n",
       "      <th>Stadium</th>\n",
       "      <th>Location</th>\n",
       "      <th>StadiumType</th>\n",
       "      <th>Turf</th>\n",
       "      <th>GameWeather</th>\n",
       "      <th>Temperature</th>\n",
       "      <th>Humidity</th>\n",
       "      <th>WindSpeed</th>\n",
       "      <th>WindDirection</th>\n",
       "    </tr>\n",
       "  </thead>\n",
       "  <tbody>\n",
       "    <tr>\n",
       "      <td>0</td>\n",
       "      <td>2019090500</td>\n",
       "      <td>20190905000050</td>\n",
       "      <td>away</td>\n",
       "      <td>34.32</td>\n",
       "      <td>24.27</td>\n",
       "      <td>5.09</td>\n",
       "      <td>1.95</td>\n",
       "      <td>0.50</td>\n",
       "      <td>52.07</td>\n",
       "      <td>19.31</td>\n",
       "      <td>...</td>\n",
       "      <td>1</td>\n",
       "      <td>Soldier Field</td>\n",
       "      <td>Chicago</td>\n",
       "      <td>Outdoor</td>\n",
       "      <td>Natural Grass</td>\n",
       "      <td>Clear</td>\n",
       "      <td>65.0</td>\n",
       "      <td>69</td>\n",
       "      <td>10</td>\n",
       "      <td>E</td>\n",
       "    </tr>\n",
       "    <tr>\n",
       "      <td>1</td>\n",
       "      <td>2019090500</td>\n",
       "      <td>20190905000050</td>\n",
       "      <td>away</td>\n",
       "      <td>33.13</td>\n",
       "      <td>30.92</td>\n",
       "      <td>3.59</td>\n",
       "      <td>2.06</td>\n",
       "      <td>0.36</td>\n",
       "      <td>20.13</td>\n",
       "      <td>347.96</td>\n",
       "      <td>...</td>\n",
       "      <td>1</td>\n",
       "      <td>Soldier Field</td>\n",
       "      <td>Chicago</td>\n",
       "      <td>Outdoor</td>\n",
       "      <td>Natural Grass</td>\n",
       "      <td>Clear</td>\n",
       "      <td>65.0</td>\n",
       "      <td>69</td>\n",
       "      <td>10</td>\n",
       "      <td>E</td>\n",
       "    </tr>\n",
       "    <tr>\n",
       "      <td>2</td>\n",
       "      <td>2019090500</td>\n",
       "      <td>20190905000050</td>\n",
       "      <td>away</td>\n",
       "      <td>30.68</td>\n",
       "      <td>24.69</td>\n",
       "      <td>3.84</td>\n",
       "      <td>2.41</td>\n",
       "      <td>0.38</td>\n",
       "      <td>271.54</td>\n",
       "      <td>272.36</td>\n",
       "      <td>...</td>\n",
       "      <td>1</td>\n",
       "      <td>Soldier Field</td>\n",
       "      <td>Chicago</td>\n",
       "      <td>Outdoor</td>\n",
       "      <td>Natural Grass</td>\n",
       "      <td>Clear</td>\n",
       "      <td>65.0</td>\n",
       "      <td>69</td>\n",
       "      <td>10</td>\n",
       "      <td>E</td>\n",
       "    </tr>\n",
       "    <tr>\n",
       "      <td>3</td>\n",
       "      <td>2019090500</td>\n",
       "      <td>20190905000050</td>\n",
       "      <td>away</td>\n",
       "      <td>34.82</td>\n",
       "      <td>30.70</td>\n",
       "      <td>4.65</td>\n",
       "      <td>1.25</td>\n",
       "      <td>0.48</td>\n",
       "      <td>46.80</td>\n",
       "      <td>5.17</td>\n",
       "      <td>...</td>\n",
       "      <td>1</td>\n",
       "      <td>Soldier Field</td>\n",
       "      <td>Chicago</td>\n",
       "      <td>Outdoor</td>\n",
       "      <td>Natural Grass</td>\n",
       "      <td>Clear</td>\n",
       "      <td>65.0</td>\n",
       "      <td>69</td>\n",
       "      <td>10</td>\n",
       "      <td>E</td>\n",
       "    </tr>\n",
       "    <tr>\n",
       "      <td>4</td>\n",
       "      <td>2019090500</td>\n",
       "      <td>20190905000050</td>\n",
       "      <td>away</td>\n",
       "      <td>34.22</td>\n",
       "      <td>29.19</td>\n",
       "      <td>4.80</td>\n",
       "      <td>0.87</td>\n",
       "      <td>0.49</td>\n",
       "      <td>57.18</td>\n",
       "      <td>8.61</td>\n",
       "      <td>...</td>\n",
       "      <td>1</td>\n",
       "      <td>Soldier Field</td>\n",
       "      <td>Chicago</td>\n",
       "      <td>Outdoor</td>\n",
       "      <td>Natural Grass</td>\n",
       "      <td>Clear</td>\n",
       "      <td>65.0</td>\n",
       "      <td>69</td>\n",
       "      <td>10</td>\n",
       "      <td>E</td>\n",
       "    </tr>\n",
       "  </tbody>\n",
       "</table>\n",
       "<p>5 rows × 48 columns</p>\n",
       "</div>"
      ],
      "text/plain": [
       "       GameId          PlayId  Team      X      Y     S     A   Dis  \\\n",
       "0  2019090500  20190905000050  away  34.32  24.27  5.09  1.95  0.50   \n",
       "1  2019090500  20190905000050  away  33.13  30.92  3.59  2.06  0.36   \n",
       "2  2019090500  20190905000050  away  30.68  24.69  3.84  2.41  0.38   \n",
       "3  2019090500  20190905000050  away  34.82  30.70  4.65  1.25  0.48   \n",
       "4  2019090500  20190905000050  away  34.22  29.19  4.80  0.87  0.49   \n",
       "\n",
       "   Orientation     Dir  ... Week        Stadium Location StadiumType  \\\n",
       "0        52.07   19.31  ...    1  Soldier Field  Chicago     Outdoor   \n",
       "1        20.13  347.96  ...    1  Soldier Field  Chicago     Outdoor   \n",
       "2       271.54  272.36  ...    1  Soldier Field  Chicago     Outdoor   \n",
       "3        46.80    5.17  ...    1  Soldier Field  Chicago     Outdoor   \n",
       "4        57.18    8.61  ...    1  Soldier Field  Chicago     Outdoor   \n",
       "\n",
       "            Turf GameWeather Temperature Humidity WindSpeed WindDirection  \n",
       "0  Natural Grass       Clear        65.0       69        10             E  \n",
       "1  Natural Grass       Clear        65.0       69        10             E  \n",
       "2  Natural Grass       Clear        65.0       69        10             E  \n",
       "3  Natural Grass       Clear        65.0       69        10             E  \n",
       "4  Natural Grass       Clear        65.0       69        10             E  \n",
       "\n",
       "[5 rows x 48 columns]"
      ]
     },
     "execution_count": 4,
     "metadata": {},
     "output_type": "execute_result"
    }
   ],
   "source": [
    "df_test.head()"
   ]
  },
  {
   "cell_type": "code",
   "execution_count": 5,
   "metadata": {},
   "outputs": [
    {
     "data": {
      "text/plain": [
       "True"
      ]
     },
     "execution_count": 5,
     "metadata": {},
     "output_type": "execute_result"
    }
   ],
   "source": [
    "# Test set is chronologically sorted\n",
    "(df_test['PlayId'] == sorted(df_test['PlayId'])).all()"
   ]
  },
  {
   "cell_type": "code",
   "execution_count": 6,
   "metadata": {},
   "outputs": [],
   "source": [
    "df_test.to_csv('df_test.csv', chunksize=50000, index=False)"
   ]
  }
 ],
 "metadata": {
  "kernelspec": {
   "display_name": "Python 3",
   "language": "python",
   "name": "python3"
  },
  "language_info": {
   "codemirror_mode": {
    "name": "ipython",
    "version": 3
   },
   "file_extension": ".py",
   "mimetype": "text/x-python",
   "name": "python",
   "nbconvert_exporter": "python",
   "pygments_lexer": "ipython3",
   "version": "3.6.6"
  }
 },
 "nbformat": 4,
 "nbformat_minor": 1
}
